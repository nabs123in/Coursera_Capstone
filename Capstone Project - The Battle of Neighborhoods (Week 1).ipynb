{
 "cells": [
  {
   "cell_type": "markdown",
   "metadata": {},
   "source": [
    "# Introduction: Business Problem "
   ]
  },
  {
   "cell_type": "markdown",
   "metadata": {},
   "source": [
    "One Restaurant Chain business group want to start to restaurant branches in different part Abu Dhabi City in United Arab Emirates .This Project will be provide Business Group ,suggestions about the type of restaurant can be started in **Abu Dhabi**, UAE.\n",
    "\n",
    "Based on the shortlisted cities suggested by the Business Group and by using data science tools we will explore its neighborhoods and the 10 most common venues in each neighborhood so that the best neighborhood where restaurant is not amongst the most common venue can be selected.\n"
   ]
  },
  {
   "cell_type": "markdown",
   "metadata": {},
   "source": [
    "## Data"
   ]
  },
  {
   "cell_type": "markdown",
   "metadata": {},
   "source": [
    "Following Datasets will be used for the above business problem:\n",
    "\n",
    "* List of Shortlisted cities\n",
    "* Using Geopandas library find the coordinates of cities\n",
    "* Using foursquare APIs find the venues in each cities and its details required for the analysis\n"
   ]
  }
 ],
 "metadata": {
  "kernelspec": {
   "display_name": "Python 3",
   "language": "python",
   "name": "python3"
  },
  "language_info": {
   "codemirror_mode": {
    "name": "ipython",
    "version": 3
   },
   "file_extension": ".py",
   "mimetype": "text/x-python",
   "name": "python",
   "nbconvert_exporter": "python",
   "pygments_lexer": "ipython3",
   "version": "3.7.4"
  }
 },
 "nbformat": 4,
 "nbformat_minor": 2
}
